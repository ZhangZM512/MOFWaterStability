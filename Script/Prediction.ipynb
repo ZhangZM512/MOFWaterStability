{
 "cells": [
  {
   "cell_type": "code",
   "execution_count": 1,
   "id": "73b941d3-60bd-47e0-b376-7e5f9e30b7f3",
   "metadata": {},
   "outputs": [],
   "source": [
    "import os\n",
    "import pickle\n",
    "import numpy as np\n",
    "import pandas as pd\n",
    "import seaborn as sns\n",
    "import matplotlib.pyplot as plt\n",
    "from matplotlib.ticker import AutoMinorLocator"
   ]
  },
  {
   "cell_type": "markdown",
   "id": "56bd36e9-f394-45dc-a61d-ca47da67f597",
   "metadata": {},
   "source": [
    "# Load data"
   ]
  },
  {
   "cell_type": "code",
   "execution_count": 2,
   "id": "dfab1208-8368-455c-968e-51ae95ffcfd5",
   "metadata": {},
   "outputs": [],
   "source": [
    "# Load .pkl files\n",
    "\n",
    "load_pickle = open(r'Data/Prediction/ARC_descriptor.pkl', 'rb')\n",
    "data_pred = pickle.load(load_pickle)\n",
    "load_pickle.close()\n"
   ]
  },
  {
   "cell_type": "code",
   "execution_count": 3,
   "id": "19d49cdd-8090-4ae9-9198-96f84280e3bf",
   "metadata": {},
   "outputs": [],
   "source": [
    "def pred_dataset(select_data, select_classifier):\n",
    "\n",
    "    # (1) Build dataset for prediction\n",
    "    \n",
    "    file = os.path.join(r'Data/Descriptor',select_classifier+'_descriptor.csv')\n",
    "    selXcols = [str(i) for i in list(pd.read_csv(file)['descriptor'])]\n",
    "    select_data = select_data[selXcols].copy()\n",
    "    select_data.sort_index(axis=1,inplace=True)\n",
    "\n",
    "    # (2) Classifier\n",
    "    \n",
    "    output_CLF = pickle.load( open(os.path.join(r'Model',select_classifier+'.pkl'),\"rb\" ) )\n",
    "    output_scaler = pickle.load( open(os.path.join(r'Model',select_classifier+'_scaler.pkl'),\"rb\" ) )\n",
    "\n",
    "    return select_data, output_CLF, output_scaler\n",
    "    "
   ]
  },
  {
   "cell_type": "markdown",
   "id": "cf4b372a-c01d-418b-a306-4d14716e1c7b",
   "metadata": {},
   "source": [
    "# Prediction: classifier Ⅰ"
   ]
  },
  {
   "cell_type": "code",
   "execution_count": 4,
   "id": "073be286-1043-407b-9fbd-d49e26fd4db6",
   "metadata": {},
   "outputs": [],
   "source": [
    "data_ARC, CLF, CLF_scaler = pred_dataset(select_data = data_pred,\n",
    "                                         select_classifier='classifier1')"
   ]
  },
  {
   "cell_type": "code",
   "execution_count": 5,
   "id": "5057692a-0c78-40eb-b64e-76eab0372766",
   "metadata": {},
   "outputs": [
    {
     "name": "stdout",
     "output_type": "stream",
     "text": [
      "Predicted stable MOFs: 129661\n"
     ]
    }
   ],
   "source": [
    "# Prediction\n",
    "\n",
    "X_pre = CLF_scaler.transform(data_ARC.values)\n",
    "CLF.predict(X_pre)\n",
    "prob = CLF.predict_proba(X_pre)\n",
    "\n",
    "prediction = pd.DataFrame()\n",
    "prediction['prob_class-1'] = prob[:,0]\n",
    "prediction['prob_class1'] = prob[:,1]\n",
    "prediction.index = data_ARC.index\n",
    "\n",
    "print('Predicted stable MOFs:',prediction.loc[prediction['prob_class-1']>0.5].shape[0])\n"
   ]
  },
  {
   "cell_type": "code",
   "execution_count": 6,
   "id": "6b8df88f-c86f-4728-9abe-183f4c40d95a",
   "metadata": {},
   "outputs": [
    {
     "name": "stdout",
     "output_type": "stream",
     "text": [
      "DB0: Stable-98662 (0.4907) ,  Untable-102388 (0.5093)\n",
      "DB1: Stable-11175 (0.488) ,  Untable-11724 (0.512)\n",
      "DB2: Stable-11 (0.4583) ,  Untable-13 (0.5417)\n",
      "DB3: Stable-34 (0.2881) ,  Untable-84 (0.7119)\n",
      "DB4: Stable-6 (0.3) ,  Untable-14 (0.7)\n",
      "DB5: Stable-4254 (0.1932) ,  Untable-17761 (0.8068)\n",
      "DB6: Stable-5316 (0.5982) ,  Untable-3570 (0.4018)\n",
      "DB7: Stable-2483 (0.3609) ,  Untable-4397 (0.6391)\n",
      "DB8: Stable-2 (0.3333) ,  Untable-4 (0.6667)\n",
      "No DB type: 9\n",
      "DB10: Stable-0 (0.0) ,  Untable-4 (1.0)\n",
      "No DB type: 11\n",
      "DB12: Stable-3996 (0.5897) ,  Untable-2780 (0.4103)\n",
      "DB13: Stable-2690 (0.5594) ,  Untable-2119 (0.4406)\n",
      "DB14: Stable-47 (0.6812) ,  Untable-22 (0.3188)\n",
      "DB15: Stable-985 (0.5884) ,  Untable-689 (0.4116)\n"
     ]
    },
    {
     "data": {
      "image/png": "[encoded data removed]",
      "text/plain": [
       "<Figure size 600x175 with 1 Axes>"
      ]
     },
     "metadata": {},
     "output_type": "display_data"
    }
   ],
   "source": [
    "# Visualization\n",
    "\n",
    "pred_stat = []\n",
    "prediction.sort_values(by=prediction.columns[0],ascending=False,inplace=True)\n",
    "\n",
    "for i in range(16):\n",
    "    try:\n",
    "        plot_index = [ii for ii in prediction.index if ii.split(\"-\")[0]=='DB'+str(i)]\n",
    "        plot_t = prediction.loc[plot_index,:]\n",
    "        s,u = plot_t[plot_t['prob_class-1']>0.5].shape[0], plot_t[plot_t['prob_class-1']<0.5].shape[0]\n",
    "        print('DB'+str(i)+':',f'Stable-{s}',f'({round(s/(s+u),4)})',', ',f'Untable-{u}',f'({round(u/(s+u),4)})')\n",
    "        pred_stat.append(['DB'+str(i),s/(s+u),u/(s+u),s+u])       \n",
    "    except:\n",
    "        pred_stat.append(['DB'+str(i),0,0,0])\n",
    "        print('No DB type:',i)\n",
    "pred_stat = [i for i in pred_stat if i[-1]!=0]\n",
    "\n",
    "outer_colors = sns.color_palette(palette='coolwarm', n_colors=4)\n",
    "\n",
    "d = 0.18\n",
    "plot_x = np.arange(len(pred_stat))\n",
    "plot_y1 = [i[1] for i in pred_stat]\n",
    "plot_y2 = [i[2] for i in pred_stat]\n",
    "\n",
    "fig = plt.figure(figsize=(12,3.5), dpi=50)\n",
    "ax = fig.add_subplot(111)\n",
    "\n",
    "ax.bar(plot_x-d, plot_y1, color=outer_colors[0], alpha=0.7, width=2*d, label='Stable')\n",
    "ax.bar(plot_x+d, plot_y2, color=outer_colors[3], alpha=0.6, width=2*d, label='Unstable')\n",
    "\n",
    "for a,b,c in zip(plot_x, plot_y1, plot_y2):\n",
    "    plt.text(a-d, b+0.02, '%.0f' % (b*100), ha='center', va= 'bottom', fontsize=12)\n",
    "    plt.text(a+d, c+0.02, '%.0f' % (c*100), ha='center', va= 'bottom',color='gray',fontsize=12)\n",
    "\n",
    "ax.tick_params(labelsize=15)\n",
    "ax.set_xlabel('Dataset label', fontsize=20, labelpad=5)\n",
    "ax.set_ylabel('Percentage (%)', fontsize=20, labelpad=5)\n",
    "ax.set_xticks(plot_x,plot_x)\n",
    "ax.set_yticks([0,0.2,0.4,0.6,0.8,1.0],[0,20,40,60,80,100])\n",
    "ax.set_xticklabels([i[0] for i in pred_stat],fontsize=15)\n",
    "ax.set_ylim([0,1.1])\n",
    "\n",
    "ax.yaxis.set_minor_locator(AutoMinorLocator(2))\n",
    "ax.tick_params(which='major',direction='out',length=7)\n",
    "ax.tick_params(which='minor',direction='out',length=4)\n",
    "ax.legend(fontsize=14.5,ncol=2, loc='upper left')\n",
    "fig.tight_layout()\n",
    "plt.show()"
   ]
  },
  {
   "cell_type": "markdown",
   "id": "12c2f37b-ff07-4050-8310-ce10ff52f282",
   "metadata": {},
   "source": [
    "# Prediction: classifier Ⅱ"
   ]
  },
  {
   "cell_type": "code",
   "execution_count": 7,
   "id": "274972db-0eb4-4829-9129-5b8f12ca79cb",
   "metadata": {},
   "outputs": [],
   "source": [
    "data_ARC, CLF, CLF_scaler = pred_dataset(select_data = data_pred,\n",
    "                                         select_classifier='classifier2')"
   ]
  },
  {
   "cell_type": "code",
   "execution_count": 8,
   "id": "be1b286d-dfb5-4638-a25a-154c303899e7",
   "metadata": {},
   "outputs": [
    {
     "name": "stdout",
     "output_type": "stream",
     "text": [
      "Predicted stable MOFs: 151923\n"
     ]
    }
   ],
   "source": [
    "# Prediction\n",
    "\n",
    "X_pre = CLF_scaler.transform(data_ARC.values)\n",
    "CLF.predict(X_pre)\n",
    "prob = CLF.predict_proba(X_pre)\n",
    "\n",
    "prediction = pd.DataFrame()\n",
    "prediction['prob_class-1'] = prob[:,0]\n",
    "prediction['prob_class1'] = prob[:,1]\n",
    "prediction.index = data_ARC.index\n",
    "\n",
    "print('Predicted stable MOFs:',prediction.loc[prediction['prob_class-1']>0.5].shape[0])\n"
   ]
  },
  {
   "cell_type": "code",
   "execution_count": 9,
   "id": "5ab7a973-b328-47fd-ab8b-2f5e84f52a50",
   "metadata": {},
   "outputs": [
    {
     "name": "stdout",
     "output_type": "stream",
     "text": [
      "DB0: Stable-110553 (0.5448) ,  Untable-92374 (0.4552)\n",
      "DB1: Stable-13266 (0.5703) ,  Untable-9994 (0.4297)\n",
      "DB2: Stable-11 (0.4583) ,  Untable-13 (0.5417)\n",
      "DB3: Stable-74 (0.6271) ,  Untable-44 (0.3729)\n",
      "DB4: Stable-19 (0.95) ,  Untable-1 (0.05)\n",
      "DB5: Stable-9311 (0.419) ,  Untable-12909 (0.581)\n",
      "DB6: Stable-4465 (0.4914) ,  Untable-4621 (0.5086)\n",
      "DB7: Stable-2891 (0.4157) ,  Untable-4063 (0.5843)\n",
      "DB8: Stable-4 (0.5) ,  Untable-4 (0.5)\n",
      "No DB type: 9\n",
      "DB10: Stable-4 (0.6667) ,  Untable-2 (0.3333)\n",
      "No DB type: 11\n",
      "DB12: Stable-5887 (0.8574) ,  Untable-979 (0.1426)\n",
      "DB13: Stable-3904 (0.7998) ,  Untable-977 (0.2002)\n",
      "DB14: Stable-61 (0.8841) ,  Untable-8 (0.1159)\n",
      "DB15: Stable-1473 (0.8655) ,  Untable-229 (0.1345)\n"
     ]
    },
    {
     "data": {
      "image/png": "[encoded data removed]",
      "text/plain": [
       "<Figure size 600x175 with 1 Axes>"
      ]
     },
     "metadata": {},
     "output_type": "display_data"
    }
   ],
   "source": [
    "# Visualization\n",
    "\n",
    "pred_stat = []\n",
    "prediction.sort_values(by=prediction.columns[0],ascending=False,inplace=True)\n",
    "\n",
    "for i in range(16):\n",
    "    try:\n",
    "        plot_index = [ii for ii in prediction.index if ii.split(\"-\")[0]=='DB'+str(i)]\n",
    "        plot_t = prediction.loc[plot_index,:]\n",
    "        s,u = plot_t[plot_t['prob_class-1']>0.5].shape[0], plot_t[plot_t['prob_class-1']<0.5].shape[0]\n",
    "        print('DB'+str(i)+':',f'Stable-{s}',f'({round(s/(s+u),4)})',', ',f'Untable-{u}',f'({round(u/(s+u),4)})')\n",
    "        pred_stat.append(['DB'+str(i),s/(s+u),u/(s+u),s+u])       \n",
    "    except:\n",
    "        pred_stat.append(['DB'+str(i),0,0,0])\n",
    "        print('No DB type:',i)\n",
    "pred_stat = [i for i in pred_stat if i[-1]!=0]\n",
    "\n",
    "outer_colors = sns.color_palette(palette='coolwarm', n_colors=4)\n",
    "\n",
    "d = 0.18\n",
    "plot_x = np.arange(len(pred_stat))\n",
    "plot_y1 = [i[1] for i in pred_stat]\n",
    "plot_y2 = [i[2] for i in pred_stat]\n",
    "\n",
    "fig = plt.figure(figsize=(12,3.5), dpi=50)\n",
    "ax = fig.add_subplot(111)\n",
    "\n",
    "ax.bar(plot_x-d, plot_y1, color=outer_colors[0], alpha=0.7, width=2*d, label='Stable')\n",
    "ax.bar(plot_x+d, plot_y2, color=outer_colors[3], alpha=0.6, width=2*d, label='Unstable')\n",
    "\n",
    "for a,b,c in zip(plot_x, plot_y1, plot_y2):\n",
    "    plt.text(a-d, b+0.02, '%.0f' % (b*100), ha='center', va= 'bottom', fontsize=12)\n",
    "    plt.text(a+d, c+0.02, '%.0f' % (c*100), ha='center', va= 'bottom',color='gray',fontsize=12)\n",
    "\n",
    "ax.tick_params(labelsize=15)\n",
    "ax.set_xlabel('Dataset label', fontsize=20, labelpad=5)\n",
    "ax.set_ylabel('Percentage (%)', fontsize=20, labelpad=5)\n",
    "ax.set_xticks(plot_x,plot_x)\n",
    "ax.set_yticks([0,0.2,0.4,0.6,0.8,1.0],[0,20,40,60,80,100])\n",
    "ax.set_xticklabels([i[0] for i in pred_stat],fontsize=15)\n",
    "ax.set_ylim([0,1.1])\n",
    "\n",
    "ax.yaxis.set_minor_locator(AutoMinorLocator(2))\n",
    "ax.tick_params(which='major',direction='out',length=7)\n",
    "ax.tick_params(which='minor',direction='out',length=4)\n",
    "ax.legend(fontsize=14.5,ncol=2, loc='upper left')\n",
    "fig.tight_layout()\n",
    "plt.show()"
   ]
  }
 ],
 "metadata": {
  "kernelspec": {
   "display_name": "Python 3 (ipykernel)",
   "language": "python",
   "name": "python3"
  },
  "language_info": {
   "codemirror_mode": {
    "name": "ipython",
    "version": 3
   },
   "file_extension": ".py",
   "mimetype": "text/x-python",
   "name": "python",
   "nbconvert_exporter": "python",
   "pygments_lexer": "ipython3",
   "version": "3.11.3"
  },
  "toc": {
   "base_numbering": 1,
   "nav_menu": {},
   "number_sections": true,
   "sideBar": true,
   "skip_h1_title": false,
   "title_cell": "Table of Contents",
   "title_sidebar": "Contents",
   "toc_cell": false,
   "toc_position": {},
   "toc_section_display": true,
   "toc_window_display": false
  }
 },
 "nbformat": 4,
 "nbformat_minor": 5
}
